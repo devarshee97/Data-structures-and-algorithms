{
  "nbformat": 4,
  "nbformat_minor": 0,
  "metadata": {
    "colab": {
      "name": "Singly_Linked_List.ipynb",
      "provenance": []
    },
    "kernelspec": {
      "name": "python3",
      "display_name": "Python 3"
    },
    "language_info": {
      "name": "python"
    }
  },
  "cells": [
    {
      "cell_type": "markdown",
      "source": [
        "# Singly Linked List"
      ],
      "metadata": {
        "id": "P1b-1WXVK1Oi"
      }
    },
    {
      "cell_type": "code",
      "source": [
        "# First, we build a node class which contains the specific value to store in each node\n",
        "\n",
        "class Node:\n",
        "  def __init__(self, val):\n",
        "    self.val = val # The value contained in the node\n",
        "    self.next = None # The address in the node pointing to the next node's location is set to none\n",
        "\n",
        "first = Node(3) # Note that the variables first, sec, third hold only the memory address of each node\n",
        "sec = Node(4) # and the value can be accessed only using the val method\n",
        "third = Node(5)\n",
        "print(\"Memory address of the first node \", first, \"and values is: \", first.val)\n",
        "print(\"Memory address of the second node \", sec, \"and values is: \", sec.val)\n",
        "print(\"Memory address of the third node \", third, \"and values is: \", third.val)"
      ],
      "metadata": {
        "colab": {
          "base_uri": "https://localhost:8080/"
        },
        "id": "-6F6TckbqUCd",
        "outputId": "e72d5bea-4b60-4209-97ca-86d91ad006e8"
      },
      "execution_count": 4,
      "outputs": [
        {
          "output_type": "stream",
          "name": "stdout",
          "text": [
            "Memory address of the first node  <__main__.Node object at 0x7fedddb0f5d0> and values is:  3\n",
            "Memory address of the second node  <__main__.Node object at 0x7fedddaea690> and values is:  4\n",
            "Memory address of the third node  <__main__.Node object at 0x7feddd297ad0> and values is:  5\n"
          ]
        }
      ]
    },
    {
      "cell_type": "markdown",
      "source": [
        "# Creating singly linked list with relevant methods"
      ],
      "metadata": {
        "id": "DHuw9D5Msper"
      }
    },
    {
      "cell_type": "code",
      "source": [
        "class singLinkList: # Define this class to form a blueprint of singly linked list structure\n",
        "  def __init__(self):\n",
        "    self.head = None #Initially, we instantiate the linked list as empty by setting both head and tail address to Null\n",
        "    self.tail = None\n",
        "\n",
        "  def __iter__(self):\n",
        "    node = self.head\n",
        "    while node:\n",
        "      yield node\n",
        "      node = node.next\n",
        "  \n",
        "\n",
        "  def insertNode(self, value, location): # Method to insert a node in the linked list\n",
        "    newNode = Node(value) # First, instantiate a node with a specific value and save the memory address in new Node\n",
        "    if self.head is None: # Check, if there is already a head containing memory address of the next node defined. If not, it indicates no head is created \n",
        "      self.head = newNode # Then, save the address of the new node as both head and tail's address to idicate that there is just one node in the linked list\n",
        "      self.tail = newNode # This will be the first node in the linked list which is linked to both head and tail\n",
        "    else:\n",
        "      if location == 0: # Check if the location where the node is to be inserted is zero, where zero denotes after head of linked list. If so,\n",
        "        newNode.next = self.head # then set the address in the new node as the address of already present first(0th index) node contained in the head \n",
        "        self.head = newNode # Also, now change the address in the head to that of the new node. Thus, a link forms between head and new node\n",
        "      elif location == -1: # Check, if the node is to be inserted at the last position i.e after the last element, before tail\n",
        "        newNode.next = None # First, set the address in the new node as null as per definition of the last node in linked list\n",
        "        self.tail.next = newNode # Change the address in the existing last node to that of the new node\n",
        "        self.tail = newNode # Save the address of the new node in the tail to form a link. Thus new node is linked to both tail and last node\n",
        "      else:\n",
        "        tempNode = self.head # Start by traversing through the linked list from head and save it as a variable temp Node\n",
        "        index = 0 # define the index to be incremented in each traverse\n",
        "        while index < location-1: # Untill, we reach the assigned node index as per the location\n",
        "          tempNode = tempNode.next # Go to the next node and save it as temp Node\n",
        "          index += 1 # Increase index by one\n",
        "        nextNode = tempNode.next # Finally, save the node address just after the temp node determined from the loop, in next node\n",
        "        tempNode.next = newNode # Save the address in the final temp node as that of the new node to form a connection\n",
        "        newNode.next = nextNode # Save the adddress in the new node as that of the next node which completes the two connection\n",
        "        if tempNode == self.tail: # Check if node is to be assigned in the tail\n",
        "          self.tail = newNode\n",
        "\n",
        "\n",
        "\n",
        "  def deleteNode(self, location): # Method to delete a particular node from the linked list \n",
        "    if self.head is None: # First, check whether the head is present, if not cannot delete any node\n",
        "      print('The singly linked list not created yet!')\n",
        "    else:\n",
        "      if location == 0: # Check if the first node i.e oth index is to be deleted\n",
        "        if self.head == self.tail: # Check, if there is only a single node by comparing the address of both head and tail\n",
        "          self.head = None # Break the link between head and the node by setting the head address to null\n",
        "          self.tail = None # Break the link between tail and the node by setting the tail address to null\n",
        "        else:\n",
        "          self.head = self.head.next # If there are more than one node, then set the address in head to the address of the node just after the first node\n",
        "      elif location== -1: # Check, if last node is to be deleted\n",
        "        if self.head == self.tail: # Repeat same process if there is just one node in the linked list\n",
        "          self.head = None\n",
        "          self.tail = None\n",
        "        else: # Else, we have to find the address of the second last node\n",
        "          node = self.head # start traversing from head\n",
        "          while node is not None: # Untill, the address of the node is not null(indicating last node)\n",
        "            if node.next == self.tail: #Check, if the address in tail that points to the inital last node is equal to the current node's address\n",
        "              break # If so, break from the loop\n",
        "            node = node.next # Go to the next node for iteration in \"if\" loo[]\n",
        "          node.next = None # After breaking from \"if\" loop, set the address in the current node to null, indicating the last node\n",
        "          self.tail = node # Set the address in tail to the current node, forming a link between tail and second last node\n",
        "      else: # Else, node is to be deleted from any random point\n",
        "        tempNode = self.head # Start traversing from head\n",
        "        index=0 # Set count of index to zero\n",
        "        while index< location-1: # Untill, the index is equal to location\n",
        "          tempNode = tempNode.next # Keep moving to next node\n",
        "          index +=1 # Increment the index by one\n",
        "        nextNode = tempNode.next # After finding the desired node, set the address of node just after it as nextNode\n",
        "        tempNode.next = nextNode.next # Set the address in the node next to temp node, to the node just after the next node, thus breaking the link between\n",
        "                                      # temp node and next node\n",
        "\n",
        "\n",
        "\n",
        "\n",
        "\n",
        "\n",
        "\n"
      ],
      "metadata": {
        "id": "uyGILJ9NmDA2"
      },
      "execution_count": 35,
      "outputs": []
    },
    {
      "cell_type": "markdown",
      "source": [
        "# Testing insertion method"
      ],
      "metadata": {
        "id": "1pk27J09hjFo"
      }
    },
    {
      "cell_type": "code",
      "source": [
        "slList = singLinkList()\n",
        "slList.insertNode(2,1)\n",
        "slList.insertNode(3,1)\n",
        "slList.insertNode(4,1)\n",
        "slList.insertNode(4,1)\n",
        "slList.insertNode(0,-1)\n",
        "slList.insertNode(0,2)\n",
        "slList.insertNode(0,3)\n",
        "print([node.val for node in slList])"
      ],
      "metadata": {
        "colab": {
          "base_uri": "https://localhost:8080/"
        },
        "id": "vdQgh5x3rLiq",
        "outputId": "65ad2073-0e5b-406b-87fc-795f4d1d1583"
      },
      "execution_count": 36,
      "outputs": [
        {
          "output_type": "stream",
          "name": "stdout",
          "text": [
            "[2, 4, 0, 0, 4, 3, 0]\n"
          ]
        }
      ]
    },
    {
      "cell_type": "markdown",
      "source": [
        "# Testing delete method"
      ],
      "metadata": {
        "id": "yFsDb6zZcsm2"
      }
    },
    {
      "cell_type": "code",
      "source": [
        "slList.deleteNode(0)\n",
        "print([node.val for node in slList])\n"
      ],
      "metadata": {
        "colab": {
          "base_uri": "https://localhost:8080/"
        },
        "id": "Rkl2Cfu7-CI0",
        "outputId": "e2c3fd57-d6a5-4a7d-db2f-307c22e4a27d"
      },
      "execution_count": 37,
      "outputs": [
        {
          "output_type": "stream",
          "name": "stdout",
          "text": [
            "[4, 0, 0, 4, 3, 0]\n"
          ]
        }
      ]
    },
    {
      "cell_type": "code",
      "source": [
        "slList.deleteNode(-1)\n",
        "print([node.val for node in slList])\n"
      ],
      "metadata": {
        "colab": {
          "base_uri": "https://localhost:8080/"
        },
        "id": "sV3ZAPIIh0Cj",
        "outputId": "8dd9af6d-0dd7-4439-b4a3-67b852562f60"
      },
      "execution_count": 38,
      "outputs": [
        {
          "output_type": "stream",
          "name": "stdout",
          "text": [
            "[4, 0, 0, 4, 3]\n"
          ]
        }
      ]
    },
    {
      "cell_type": "code",
      "source": [
        "slList.deleteNode(2)\n",
        "print([node.val for node in slList])"
      ],
      "metadata": {
        "colab": {
          "base_uri": "https://localhost:8080/"
        },
        "id": "-tIjYBy8jQox",
        "outputId": "58217c4b-8996-4e27-addf-3d6b96c724ff"
      },
      "execution_count": 39,
      "outputs": [
        {
          "output_type": "stream",
          "name": "stdout",
          "text": [
            "[4, 0, 4, 3]\n"
          ]
        }
      ]
    },
    {
      "cell_type": "code",
      "source": [
        ""
      ],
      "metadata": {
        "id": "5b1X5bgtkb2B"
      },
      "execution_count": null,
      "outputs": []
    }
  ]
}